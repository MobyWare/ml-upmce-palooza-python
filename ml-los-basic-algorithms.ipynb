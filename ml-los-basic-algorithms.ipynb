{
 "cells": [
  {
   "cell_type": "markdown",
   "metadata": {},
   "source": [
    "# UPMCE Machine Learning Palooza\n",
    "### Goal\n",
    "Predict the length-of-stay (LOS) of a patient in a hospital. See this repo to get details about the challenge [here](https://git.tdc.upmc.edu/MachineLearning/ml-intro-spark-regression) "
   ]
  },
  {
   "cell_type": "markdown",
   "metadata": {},
   "source": [
    "#### 1) Get my features before splitting"
   ]
  },
  {
   "cell_type": "code",
   "execution_count": 1,
   "metadata": {
    "collapsed": true
   },
   "outputs": [],
   "source": [
    "import pandas as pd\n",
    "import numpy as np\n",
    "import scipy.sparse as sp\n",
    "\n",
    "from sklearn.cross_validation import train_test_split\n",
    "from sklearn.linear_model import LinearRegression\n",
    "from sklearn import metrics\n",
    "\n",
    "from ohe import *"
   ]
  },
  {
   "cell_type": "code",
   "execution_count": 2,
   "metadata": {
    "collapsed": false
   },
   "outputs": [
    {
     "data": {
      "text/html": [
       "<div>\n",
       "<table border=\"1\" class=\"dataframe\">\n",
       "  <thead>\n",
       "    <tr style=\"text-align: right;\">\n",
       "      <th></th>\n",
       "      <th>VisitID</th>\n",
       "      <th>Hospital</th>\n",
       "      <th>Dept_Code</th>\n",
       "      <th>PaymentType</th>\n",
       "      <th>Age</th>\n",
       "      <th>Race</th>\n",
       "      <th>Gender</th>\n",
       "      <th>FC</th>\n",
       "      <th>ArriveDate</th>\n",
       "      <th>DischargeDate</th>\n",
       "      <th>LOS</th>\n",
       "      <th>DXCODE</th>\n",
       "      <th>Description</th>\n",
       "      <th>DispenseID</th>\n",
       "      <th>DOC</th>\n",
       "    </tr>\n",
       "  </thead>\n",
       "  <tbody>\n",
       "    <tr>\n",
       "      <th>0</th>\n",
       "      <td>HdBgCT1YkEl14280</td>\n",
       "      <td>SHY</td>\n",
       "      <td>436</td>\n",
       "      <td>I</td>\n",
       "      <td>77</td>\n",
       "      <td>W</td>\n",
       "      <td>M</td>\n",
       "      <td>MS</td>\n",
       "      <td>10/07/2014</td>\n",
       "      <td>10/10/2014</td>\n",
       "      <td>3</td>\n",
       "      <td>197.7</td>\n",
       "      <td>SECOND MALIG NEO LIVE</td>\n",
       "      <td>1</td>\n",
       "      <td>10028</td>\n",
       "    </tr>\n",
       "    <tr>\n",
       "      <th>1</th>\n",
       "      <td>HdBgCT1YkEl14280</td>\n",
       "      <td>SHY</td>\n",
       "      <td>436</td>\n",
       "      <td>I</td>\n",
       "      <td>77</td>\n",
       "      <td>W</td>\n",
       "      <td>M</td>\n",
       "      <td>MS</td>\n",
       "      <td>10/07/2014</td>\n",
       "      <td>10/10/2014</td>\n",
       "      <td>3</td>\n",
       "      <td>276.2</td>\n",
       "      <td>ACIDOSIS</td>\n",
       "      <td>1</td>\n",
       "      <td>10028</td>\n",
       "    </tr>\n",
       "    <tr>\n",
       "      <th>2</th>\n",
       "      <td>HdBgCT1YkEl14280</td>\n",
       "      <td>SHY</td>\n",
       "      <td>436</td>\n",
       "      <td>I</td>\n",
       "      <td>77</td>\n",
       "      <td>W</td>\n",
       "      <td>M</td>\n",
       "      <td>MS</td>\n",
       "      <td>10/07/2014</td>\n",
       "      <td>10/10/2014</td>\n",
       "      <td>3</td>\n",
       "      <td>198.5</td>\n",
       "      <td>SECONDARY MALIG NEO B</td>\n",
       "      <td>1</td>\n",
       "      <td>10028</td>\n",
       "    </tr>\n",
       "    <tr>\n",
       "      <th>3</th>\n",
       "      <td>HdBgCT1YkEl14280</td>\n",
       "      <td>SHY</td>\n",
       "      <td>436</td>\n",
       "      <td>I</td>\n",
       "      <td>77</td>\n",
       "      <td>W</td>\n",
       "      <td>M</td>\n",
       "      <td>MS</td>\n",
       "      <td>10/07/2014</td>\n",
       "      <td>10/10/2014</td>\n",
       "      <td>3</td>\n",
       "      <td>253.6</td>\n",
       "      <td>NEUROHYPOPHYSIS DIS N</td>\n",
       "      <td>1</td>\n",
       "      <td>10028</td>\n",
       "    </tr>\n",
       "    <tr>\n",
       "      <th>4</th>\n",
       "      <td>HdBgCT1YkEl14280</td>\n",
       "      <td>SHY</td>\n",
       "      <td>436</td>\n",
       "      <td>I</td>\n",
       "      <td>77</td>\n",
       "      <td>W</td>\n",
       "      <td>M</td>\n",
       "      <td>MS</td>\n",
       "      <td>10/07/2014</td>\n",
       "      <td>10/10/2014</td>\n",
       "      <td>3</td>\n",
       "      <td>V58.66</td>\n",
       "      <td>LONG-TERM USE ASPIRIN</td>\n",
       "      <td>1</td>\n",
       "      <td>10028</td>\n",
       "    </tr>\n",
       "  </tbody>\n",
       "</table>\n",
       "</div>"
      ],
      "text/plain": [
       "            VisitID Hospital  Dept_Code PaymentType  Age Race Gender  FC  \\\n",
       "0  HdBgCT1YkEl14280      SHY        436           I   77    W      M  MS   \n",
       "1  HdBgCT1YkEl14280      SHY        436           I   77    W      M  MS   \n",
       "2  HdBgCT1YkEl14280      SHY        436           I   77    W      M  MS   \n",
       "3  HdBgCT1YkEl14280      SHY        436           I   77    W      M  MS   \n",
       "4  HdBgCT1YkEl14280      SHY        436           I   77    W      M  MS   \n",
       "\n",
       "   ArriveDate DischargeDate  LOS  DXCODE            Description DispenseID  \\\n",
       "0  10/07/2014    10/10/2014    3   197.7  SECOND MALIG NEO LIVE          1   \n",
       "1  10/07/2014    10/10/2014    3   276.2               ACIDOSIS          1   \n",
       "2  10/07/2014    10/10/2014    3   198.5  SECONDARY MALIG NEO B          1   \n",
       "3  10/07/2014    10/10/2014    3   253.6  NEUROHYPOPHYSIS DIS N          1   \n",
       "4  10/07/2014    10/10/2014    3  V58.66  LONG-TERM USE ASPIRIN          1   \n",
       "\n",
       "     DOC  \n",
       "0  10028  \n",
       "1  10028  \n",
       "2  10028  \n",
       "3  10028  \n",
       "4  10028  "
      ]
     },
     "execution_count": 2,
     "metadata": {},
     "output_type": "execute_result"
    }
   ],
   "source": [
    "url = 'http://sparkdl04:50070/webhdfs/v1/palooza/data/visit_train_panda.csv?op=OPEN'\n",
    "source_data = pd.read_csv(url)\n",
    "source_data.head()"
   ]
  },
  {
   "cell_type": "markdown",
   "metadata": {},
   "source": [
    "## N.B. - Sparse encode DXCODE\n",
    "DXCODE is too big, but it can be sparsely represented. DXCODE has over 4K unique values so it is impossible to encode using a dense matric like panda on a single machine."
   ]
  },
  {
   "cell_type": "markdown",
   "metadata": {},
   "source": [
    "### Let's see what happnes if I only encode DXCODE"
   ]
  },
  {
   "cell_type": "code",
   "execution_count": 19,
   "metadata": {
    "collapsed": false
   },
   "outputs": [
    {
     "name": "stdout",
     "output_type": "stream",
     "text": [
      "RMSE with dxcode only: 6.39\n",
      "RMSE (standard): 6.57\n"
     ]
    }
   ],
   "source": [
    "# ID feature and target variables\n",
    "feature_names = ['DXCODE']\n",
    "categorical_features = ['DXCODE']\n",
    "\n",
    "# Encoded categorical and converted all to sparse repsresentation.\n",
    "source_data_features,_,_ = ohe_dataframe_to_sparse(source_data[feature_names], categorical_features)\n",
    "\n",
    "# Split Data\n",
    "target = source_data.LOS\n",
    "source_features_train, source_features_test, target_train, target_test = train_test_split(source_data_features, target)\n",
    "\n",
    "# Train Model with DXCODE as only feature\n",
    "lin_reg = LinearRegression()\n",
    "lin_reg.fit(source_features_train, target_train)\n",
    "\n",
    "# Evaluate Model with DXCODE as only feature\n",
    "target_pred = lin_reg.predict(source_features_test)\n",
    "\n",
    "print ('RMSE with dxcode only: {:,.2f}'.format(np.sqrt(metrics.mean_squared_error(target_test, target_pred))))\n",
    "print ('RMSE (standard): {:,.2f}'.format(\n",
    "        np.sqrt(metrics.mean_squared_error(target_test, [target_test.mean()] * len(target_test)))))"
   ]
  },
  {
   "cell_type": "markdown",
   "metadata": {},
   "source": [
    "### Let's try more features; DXCODE, Patient demos and Hospital"
   ]
  },
  {
   "cell_type": "code",
   "execution_count": 21,
   "metadata": {
    "collapsed": false
   },
   "outputs": [
    {
     "name": "stdout",
     "output_type": "stream",
     "text": [
      "RMSE with dxcode, demos & hospital: 6.19\n",
      "RMSE (standard): 6.41\n"
     ]
    }
   ],
   "source": [
    "#ID feature and target variables\n",
    "feature_names = ['DXCODE', 'Age', 'Race', 'Gender', 'Hospital']\n",
    "categorical_features = ['DXCODE', 'Race', 'Gender', 'Hospital']\n",
    "\n",
    "# Encoded categorical and converted all to sparse repsresentation.\n",
    "source_data_features,_,_ = ohe_dataframe_to_sparse(source_data[feature_names], categorical_features)\n",
    "\n",
    "#Split Data\n",
    "target = source_data.LOS\n",
    "source_features_train, source_features_test, target_train, target_test = train_test_split(source_data_features, target)\n",
    "\n",
    "#Train Model with DXCODE, patient demos and hospital as only feature\n",
    "lin_reg = LinearRegression()\n",
    "lin_reg.fit(source_features_train, target_train)\n",
    "\n",
    "#Evaluate Model with DXCODE, patient demos and hospital as only feature\n",
    "target_pred = lin_reg.predict(source_features_test)\n",
    "\n",
    "print ('RMSE with dxcode, demos & hospital: {:,.2f}'.format(np.sqrt(metrics.mean_squared_error(target_test, target_pred))))\n",
    "print ('RMSE (standard): {:,.2f}'.format(\n",
    "        np.sqrt(metrics.mean_squared_error(target_test, [target_test.mean()] * len(target_test)))))"
   ]
  },
  {
   "cell_type": "markdown",
   "metadata": {},
   "source": [
    "### Show the issue numerically with DXCODE"
   ]
  },
  {
   "cell_type": "code",
   "execution_count": 23,
   "metadata": {
    "collapsed": false
   },
   "outputs": [
    {
     "name": "stdout",
     "output_type": "stream",
     "text": [
      "4789 of the 279808 observations have unique DXCODES.\n"
     ]
    }
   ],
   "source": [
    "print ('%d of the %d observations have unique DXCODES.' % \n",
    "       (len(source_data.DXCODE.unique()), len(source_data.index)))"
   ]
  },
  {
   "cell_type": "markdown",
   "metadata": {},
   "source": [
    "## Scrap"
   ]
  },
  {
   "cell_type": "code",
   "execution_count": 3,
   "metadata": {
    "collapsed": false
   },
   "outputs": [
    {
     "name": "stderr",
     "output_type": "stream",
     "text": [
      "C:\\Users\\dickm\\AppData\\Local\\Continuum\\Anaconda2\\lib\\site-packages\\pandas\\core\\generic.py:2387: SettingWithCopyWarning: \n",
      "A value is trying to be set on a copy of a slice from a DataFrame.\n",
      "Try using .loc[row_indexer,col_indexer] = value instead\n",
      "\n",
      "See the caveats in the documentation: http://pandas.pydata.org/pandas-docs/stable/indexing.html#indexing-view-versus-copy\n",
      "  self[name] = value\n"
     ]
    },
    {
     "data": {
      "text/plain": [
       "0   2014-10-10\n",
       "1   2014-10-10\n",
       "2   2014-10-10\n",
       "3   2014-10-10\n",
       "4   2014-10-10\n",
       "Name: DischargeDate, dtype: datetime64[ns]"
      ]
     },
     "execution_count": 3,
     "metadata": {},
     "output_type": "execute_result"
    }
   ],
   "source": [
    "## Show how to convert column to date time.\n",
    "feature_names = ['LOS', 'Age', 'Race', 'Gender', 'Hospital', 'ArriveDate', 'DischargeDate']\n",
    "source_data_features = source_data[feature_names]\n",
    "source_data_features.ArriveDate = source_data_features.ArriveDate.map(lambda d: pd.to_datetime(str(d)))\n",
    "source_data_features.DischargeDate = source_data_features.DischargeDate.map(lambda d: pd.to_datetime(str(d)))\n",
    "source_data_features.DischargeDate.head()"
   ]
  }
 ],
 "metadata": {
  "kernelspec": {
   "display_name": "Python 2",
   "language": "python",
   "name": "python2"
  },
  "language_info": {
   "codemirror_mode": {
    "name": "ipython",
    "version": 2
   },
   "file_extension": ".py",
   "mimetype": "text/x-python",
   "name": "python",
   "nbconvert_exporter": "python",
   "pygments_lexer": "ipython2",
   "version": "2.7.11"
  }
 },
 "nbformat": 4,
 "nbformat_minor": 0
}
