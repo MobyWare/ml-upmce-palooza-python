{
 "cells": [
  {
   "cell_type": "markdown",
   "metadata": {},
   "source": [
    "# UPMCE Machine Learning Palooza\n",
    "### Goal\n",
    "Predict the length-of-stay (LOS) of a patient in a hospital. See this repo to get details about the challenge [here](https://git.tdc.upmc.edu/MachineLearning/ml-intro-spark-regression) "
   ]
  },
  {
   "cell_type": "markdown",
   "metadata": {},
   "source": [
    "#### 1) Get my features before splitting"
   ]
  },
  {
   "cell_type": "code",
   "execution_count": 1,
   "metadata": {
    "collapsed": true
   },
   "outputs": [],
   "source": [
    "import pandas as pd\n",
    "import numpy as np\n",
    "import scipy.sparse as sp\n",
    "\n",
    "from sklearn.cross_validation import train_test_split\n",
    "from sklearn.linear_model import LinearRegression\n",
    "from sklearn import metrics\n",
    "\n",
    "from ohe import *"
   ]
  },
  {
   "cell_type": "code",
   "execution_count": 2,
   "metadata": {
    "collapsed": false
   },
   "outputs": [
    {
     "data": {
      "text/html": [
       "<div>\n",
       "<table border=\"1\" class=\"dataframe\">\n",
       "  <thead>\n",
       "    <tr style=\"text-align: right;\">\n",
       "      <th></th>\n",
       "      <th>VisitID</th>\n",
       "      <th>Hospital</th>\n",
       "      <th>Dept_Code</th>\n",
       "      <th>PaymentType</th>\n",
       "      <th>Age</th>\n",
       "      <th>Race</th>\n",
       "      <th>Gender</th>\n",
       "      <th>FC</th>\n",
       "      <th>ArriveDate</th>\n",
       "      <th>DischargeDate</th>\n",
       "      <th>LOS</th>\n",
       "      <th>DXCODE</th>\n",
       "      <th>Description</th>\n",
       "      <th>DispenseID</th>\n",
       "      <th>DOC</th>\n",
       "      <th>ArriveDateDOW</th>\n",
       "      <th>DischargeDateDOW</th>\n",
       "    </tr>\n",
       "  </thead>\n",
       "  <tbody>\n",
       "    <tr>\n",
       "      <th>0</th>\n",
       "      <td>HdBgCT1YkEl14280</td>\n",
       "      <td>SHY</td>\n",
       "      <td>436</td>\n",
       "      <td>I</td>\n",
       "      <td>77</td>\n",
       "      <td>W</td>\n",
       "      <td>M</td>\n",
       "      <td>MS</td>\n",
       "      <td>2014-10-07</td>\n",
       "      <td>2014-10-10</td>\n",
       "      <td>3</td>\n",
       "      <td>197.7</td>\n",
       "      <td>SECOND MALIG NEO LIVE</td>\n",
       "      <td>1</td>\n",
       "      <td>10028</td>\n",
       "      <td>1</td>\n",
       "      <td>4</td>\n",
       "    </tr>\n",
       "    <tr>\n",
       "      <th>1</th>\n",
       "      <td>HdBgCT1YkEl14280</td>\n",
       "      <td>SHY</td>\n",
       "      <td>436</td>\n",
       "      <td>I</td>\n",
       "      <td>77</td>\n",
       "      <td>W</td>\n",
       "      <td>M</td>\n",
       "      <td>MS</td>\n",
       "      <td>2014-10-07</td>\n",
       "      <td>2014-10-10</td>\n",
       "      <td>3</td>\n",
       "      <td>276.2</td>\n",
       "      <td>ACIDOSIS</td>\n",
       "      <td>1</td>\n",
       "      <td>10028</td>\n",
       "      <td>1</td>\n",
       "      <td>4</td>\n",
       "    </tr>\n",
       "    <tr>\n",
       "      <th>2</th>\n",
       "      <td>HdBgCT1YkEl14280</td>\n",
       "      <td>SHY</td>\n",
       "      <td>436</td>\n",
       "      <td>I</td>\n",
       "      <td>77</td>\n",
       "      <td>W</td>\n",
       "      <td>M</td>\n",
       "      <td>MS</td>\n",
       "      <td>2014-10-07</td>\n",
       "      <td>2014-10-10</td>\n",
       "      <td>3</td>\n",
       "      <td>198.5</td>\n",
       "      <td>SECONDARY MALIG NEO B</td>\n",
       "      <td>1</td>\n",
       "      <td>10028</td>\n",
       "      <td>1</td>\n",
       "      <td>4</td>\n",
       "    </tr>\n",
       "    <tr>\n",
       "      <th>3</th>\n",
       "      <td>HdBgCT1YkEl14280</td>\n",
       "      <td>SHY</td>\n",
       "      <td>436</td>\n",
       "      <td>I</td>\n",
       "      <td>77</td>\n",
       "      <td>W</td>\n",
       "      <td>M</td>\n",
       "      <td>MS</td>\n",
       "      <td>2014-10-07</td>\n",
       "      <td>2014-10-10</td>\n",
       "      <td>3</td>\n",
       "      <td>253.6</td>\n",
       "      <td>NEUROHYPOPHYSIS DIS N</td>\n",
       "      <td>1</td>\n",
       "      <td>10028</td>\n",
       "      <td>1</td>\n",
       "      <td>4</td>\n",
       "    </tr>\n",
       "    <tr>\n",
       "      <th>4</th>\n",
       "      <td>HdBgCT1YkEl14280</td>\n",
       "      <td>SHY</td>\n",
       "      <td>436</td>\n",
       "      <td>I</td>\n",
       "      <td>77</td>\n",
       "      <td>W</td>\n",
       "      <td>M</td>\n",
       "      <td>MS</td>\n",
       "      <td>2014-10-07</td>\n",
       "      <td>2014-10-10</td>\n",
       "      <td>3</td>\n",
       "      <td>V58.66</td>\n",
       "      <td>LONG-TERM USE ASPIRIN</td>\n",
       "      <td>1</td>\n",
       "      <td>10028</td>\n",
       "      <td>1</td>\n",
       "      <td>4</td>\n",
       "    </tr>\n",
       "  </tbody>\n",
       "</table>\n",
       "</div>"
      ],
      "text/plain": [
       "            VisitID Hospital  Dept_Code PaymentType  Age Race Gender  FC  \\\n",
       "0  HdBgCT1YkEl14280      SHY        436           I   77    W      M  MS   \n",
       "1  HdBgCT1YkEl14280      SHY        436           I   77    W      M  MS   \n",
       "2  HdBgCT1YkEl14280      SHY        436           I   77    W      M  MS   \n",
       "3  HdBgCT1YkEl14280      SHY        436           I   77    W      M  MS   \n",
       "4  HdBgCT1YkEl14280      SHY        436           I   77    W      M  MS   \n",
       "\n",
       "  ArriveDate DischargeDate  LOS  DXCODE            Description DispenseID  \\\n",
       "0 2014-10-07    2014-10-10    3   197.7  SECOND MALIG NEO LIVE          1   \n",
       "1 2014-10-07    2014-10-10    3   276.2               ACIDOSIS          1   \n",
       "2 2014-10-07    2014-10-10    3   198.5  SECONDARY MALIG NEO B          1   \n",
       "3 2014-10-07    2014-10-10    3   253.6  NEUROHYPOPHYSIS DIS N          1   \n",
       "4 2014-10-07    2014-10-10    3  V58.66  LONG-TERM USE ASPIRIN          1   \n",
       "\n",
       "     DOC  ArriveDateDOW  DischargeDateDOW  \n",
       "0  10028              1                 4  \n",
       "1  10028              1                 4  \n",
       "2  10028              1                 4  \n",
       "3  10028              1                 4  \n",
       "4  10028              1                 4  "
      ]
     },
     "execution_count": 2,
     "metadata": {},
     "output_type": "execute_result"
    }
   ],
   "source": [
    "url = \"C:/Users/dickm/Documents/Projects/ML/Source/UPMC/Pharmacy/visit_train_panda.csv\"\n",
    "#url = 'http://sparkdl04:50070/webhdfs/v1/palooza/data/visit_train_panda.csv?op=OPEN'\n",
    "source_data = pd.read_csv(url)\n",
    "\n",
    "#Get parse admin dates and add derived day of week (DOW) fields\n",
    "source_data.ArriveDate = source_data.ArriveDate.map(lambda d: pd.to_datetime(str(d)))\n",
    "source_data.DischargeDate = source_data.DischargeDate.map(lambda d: pd.to_datetime(str(d)))\n",
    "\n",
    "#Add DOW columns. N.B. Monday is 0 and Sunday is 6.\n",
    "source_data['ArriveDateDOW'] = source_data.ArriveDate.dt.dayofweek\n",
    "source_data['DischargeDateDOW'] = source_data.DischargeDate.dt.dayofweek\n",
    "\n",
    "source_data.head()"
   ]
  },
  {
   "cell_type": "markdown",
   "metadata": {},
   "source": [
    "## N.B. - Sparse encode DXCODE\n",
    "DXCODE is too big, but it can be sparsely represented. DXCODE has over 4K unique values so it is impossible to encode using a dense matric like panda on a single machine."
   ]
  },
  {
   "cell_type": "code",
   "execution_count": 29,
   "metadata": {
    "collapsed": false
   },
   "outputs": [
    {
     "ename": "TypeError",
     "evalue": "no supported conversion for types: (dtype('O'),)",
     "output_type": "error",
     "traceback": [
      "\u001b[1;31m---------------------------------------------------------------------------\u001b[0m",
      "\u001b[1;31mTypeError\u001b[0m                                 Traceback (most recent call last)",
      "\u001b[1;32m<ipython-input-29-92054098afc7>\u001b[0m in \u001b[0;36m<module>\u001b[1;34m()\u001b[0m\n\u001b[1;32m----> 1\u001b[1;33m \u001b[0mmytest\u001b[0m \u001b[1;33m=\u001b[0m \u001b[0mscipy\u001b[0m\u001b[1;33m.\u001b[0m\u001b[0msparse\u001b[0m\u001b[1;33m.\u001b[0m\u001b[0mcsr_matrix\u001b[0m\u001b[1;33m(\u001b[0m\u001b[0msource_data\u001b[0m\u001b[1;33m.\u001b[0m\u001b[0mas_matrix\u001b[0m\u001b[1;33m(\u001b[0m\u001b[1;33m)\u001b[0m\u001b[1;33m)\u001b[0m\u001b[1;33m\u001b[0m\u001b[0m\n\u001b[0m",
      "\u001b[1;32mC:\\Users\\dickm\\AppData\\Local\\Continuum\\Anaconda2\\lib\\site-packages\\scipy\\sparse\\compressed.py\u001b[0m in \u001b[0;36m__init__\u001b[1;34m(self, arg1, shape, dtype, copy)\u001b[0m\n\u001b[0;32m     67\u001b[0m                         self.format)\n\u001b[0;32m     68\u001b[0m             \u001b[1;32mfrom\u001b[0m \u001b[1;33m.\u001b[0m\u001b[0mcoo\u001b[0m \u001b[1;32mimport\u001b[0m \u001b[0mcoo_matrix\u001b[0m\u001b[1;33m\u001b[0m\u001b[0m\n\u001b[1;32m---> 69\u001b[1;33m             \u001b[0mself\u001b[0m\u001b[1;33m.\u001b[0m\u001b[0m_set_self\u001b[0m\u001b[1;33m(\u001b[0m\u001b[0mself\u001b[0m\u001b[1;33m.\u001b[0m\u001b[0m__class__\u001b[0m\u001b[1;33m(\u001b[0m\u001b[0mcoo_matrix\u001b[0m\u001b[1;33m(\u001b[0m\u001b[0marg1\u001b[0m\u001b[1;33m,\u001b[0m \u001b[0mdtype\u001b[0m\u001b[1;33m=\u001b[0m\u001b[0mdtype\u001b[0m\u001b[1;33m)\u001b[0m\u001b[1;33m)\u001b[0m\u001b[1;33m)\u001b[0m\u001b[1;33m\u001b[0m\u001b[0m\n\u001b[0m\u001b[0;32m     70\u001b[0m \u001b[1;33m\u001b[0m\u001b[0m\n\u001b[0;32m     71\u001b[0m         \u001b[1;31m# Read matrix dimensions given, if any\u001b[0m\u001b[1;33m\u001b[0m\u001b[1;33m\u001b[0m\u001b[0m\n",
      "\u001b[1;32mC:\\Users\\dickm\\AppData\\Local\\Continuum\\Anaconda2\\lib\\site-packages\\scipy\\sparse\\compressed.py\u001b[0m in \u001b[0;36m__init__\u001b[1;34m(self, arg1, shape, dtype, copy)\u001b[0m\n\u001b[0;32m     29\u001b[0m                 \u001b[0marg1\u001b[0m \u001b[1;33m=\u001b[0m \u001b[0marg1\u001b[0m\u001b[1;33m.\u001b[0m\u001b[0mcopy\u001b[0m\u001b[1;33m(\u001b[0m\u001b[1;33m)\u001b[0m\u001b[1;33m\u001b[0m\u001b[0m\n\u001b[0;32m     30\u001b[0m             \u001b[1;32melse\u001b[0m\u001b[1;33m:\u001b[0m\u001b[1;33m\u001b[0m\u001b[0m\n\u001b[1;32m---> 31\u001b[1;33m                 \u001b[0marg1\u001b[0m \u001b[1;33m=\u001b[0m \u001b[0marg1\u001b[0m\u001b[1;33m.\u001b[0m\u001b[0masformat\u001b[0m\u001b[1;33m(\u001b[0m\u001b[0mself\u001b[0m\u001b[1;33m.\u001b[0m\u001b[0mformat\u001b[0m\u001b[1;33m)\u001b[0m\u001b[1;33m\u001b[0m\u001b[0m\n\u001b[0m\u001b[0;32m     32\u001b[0m             \u001b[0mself\u001b[0m\u001b[1;33m.\u001b[0m\u001b[0m_set_self\u001b[0m\u001b[1;33m(\u001b[0m\u001b[0marg1\u001b[0m\u001b[1;33m)\u001b[0m\u001b[1;33m\u001b[0m\u001b[0m\n\u001b[0;32m     33\u001b[0m \u001b[1;33m\u001b[0m\u001b[0m\n",
      "\u001b[1;32mC:\\Users\\dickm\\AppData\\Local\\Continuum\\Anaconda2\\lib\\site-packages\\scipy\\sparse\\base.py\u001b[0m in \u001b[0;36masformat\u001b[1;34m(self, format)\u001b[0m\n\u001b[0;32m    218\u001b[0m             \u001b[1;32mreturn\u001b[0m \u001b[0mself\u001b[0m\u001b[1;33m\u001b[0m\u001b[0m\n\u001b[0;32m    219\u001b[0m         \u001b[1;32melse\u001b[0m\u001b[1;33m:\u001b[0m\u001b[1;33m\u001b[0m\u001b[0m\n\u001b[1;32m--> 220\u001b[1;33m             \u001b[1;32mreturn\u001b[0m \u001b[0mgetattr\u001b[0m\u001b[1;33m(\u001b[0m\u001b[0mself\u001b[0m\u001b[1;33m,\u001b[0m\u001b[1;34m'to'\u001b[0m \u001b[1;33m+\u001b[0m \u001b[0mformat\u001b[0m\u001b[1;33m)\u001b[0m\u001b[1;33m(\u001b[0m\u001b[1;33m)\u001b[0m\u001b[1;33m\u001b[0m\u001b[0m\n\u001b[0m\u001b[0;32m    221\u001b[0m \u001b[1;33m\u001b[0m\u001b[0m\n\u001b[0;32m    222\u001b[0m     \u001b[1;31m###################################################################\u001b[0m\u001b[1;33m\u001b[0m\u001b[1;33m\u001b[0m\u001b[0m\n",
      "\u001b[1;32mC:\\Users\\dickm\\AppData\\Local\\Continuum\\Anaconda2\\lib\\site-packages\\scipy\\sparse\\coo.py\u001b[0m in \u001b[0;36mtocsr\u001b[1;34m(self)\u001b[0m\n\u001b[0;32m    328\u001b[0m             \u001b[0mindptr\u001b[0m \u001b[1;33m=\u001b[0m \u001b[0mnp\u001b[0m\u001b[1;33m.\u001b[0m\u001b[0mempty\u001b[0m\u001b[1;33m(\u001b[0m\u001b[0mM\u001b[0m \u001b[1;33m+\u001b[0m \u001b[1;36m1\u001b[0m\u001b[1;33m,\u001b[0m \u001b[0mdtype\u001b[0m\u001b[1;33m=\u001b[0m\u001b[0midx_dtype\u001b[0m\u001b[1;33m)\u001b[0m\u001b[1;33m\u001b[0m\u001b[0m\n\u001b[0;32m    329\u001b[0m             \u001b[0mindices\u001b[0m \u001b[1;33m=\u001b[0m \u001b[0mnp\u001b[0m\u001b[1;33m.\u001b[0m\u001b[0mempty\u001b[0m\u001b[1;33m(\u001b[0m\u001b[0mself\u001b[0m\u001b[1;33m.\u001b[0m\u001b[0mnnz\u001b[0m\u001b[1;33m,\u001b[0m \u001b[0mdtype\u001b[0m\u001b[1;33m=\u001b[0m\u001b[0midx_dtype\u001b[0m\u001b[1;33m)\u001b[0m\u001b[1;33m\u001b[0m\u001b[0m\n\u001b[1;32m--> 330\u001b[1;33m             \u001b[0mdata\u001b[0m \u001b[1;33m=\u001b[0m \u001b[0mnp\u001b[0m\u001b[1;33m.\u001b[0m\u001b[0mempty\u001b[0m\u001b[1;33m(\u001b[0m\u001b[0mself\u001b[0m\u001b[1;33m.\u001b[0m\u001b[0mnnz\u001b[0m\u001b[1;33m,\u001b[0m \u001b[0mdtype\u001b[0m\u001b[1;33m=\u001b[0m\u001b[0mupcast\u001b[0m\u001b[1;33m(\u001b[0m\u001b[0mself\u001b[0m\u001b[1;33m.\u001b[0m\u001b[0mdtype\u001b[0m\u001b[1;33m)\u001b[0m\u001b[1;33m)\u001b[0m\u001b[1;33m\u001b[0m\u001b[0m\n\u001b[0m\u001b[0;32m    331\u001b[0m \u001b[1;33m\u001b[0m\u001b[0m\n\u001b[0;32m    332\u001b[0m             coo_tocsr(M, N, self.nnz,\n",
      "\u001b[1;32mC:\\Users\\dickm\\AppData\\Local\\Continuum\\Anaconda2\\lib\\site-packages\\scipy\\sparse\\sputils.py\u001b[0m in \u001b[0;36mupcast\u001b[1;34m(*args)\u001b[0m\n\u001b[0;32m     55\u001b[0m             \u001b[1;32mreturn\u001b[0m \u001b[0mt\u001b[0m\u001b[1;33m\u001b[0m\u001b[0m\n\u001b[0;32m     56\u001b[0m \u001b[1;33m\u001b[0m\u001b[0m\n\u001b[1;32m---> 57\u001b[1;33m     \u001b[1;32mraise\u001b[0m \u001b[0mTypeError\u001b[0m\u001b[1;33m(\u001b[0m\u001b[1;34m'no supported conversion for types: %r'\u001b[0m \u001b[1;33m%\u001b[0m \u001b[1;33m(\u001b[0m\u001b[0margs\u001b[0m\u001b[1;33m,\u001b[0m\u001b[1;33m)\u001b[0m\u001b[1;33m)\u001b[0m\u001b[1;33m\u001b[0m\u001b[0m\n\u001b[0m\u001b[0;32m     58\u001b[0m \u001b[1;33m\u001b[0m\u001b[0m\n\u001b[0;32m     59\u001b[0m \u001b[1;33m\u001b[0m\u001b[0m\n",
      "\u001b[1;31mTypeError\u001b[0m: no supported conversion for types: (dtype('O'),)"
     ]
    }
   ],
   "source": [
    "mytest = scipy.sparse.csr_matrix(source_data.as_matrix())"
   ]
  },
  {
   "cell_type": "markdown",
   "metadata": {},
   "source": [
    "### Pre-Training calls"
   ]
  },
  {
   "cell_type": "code",
   "execution_count": 3,
   "metadata": {
    "collapsed": false
   },
   "outputs": [],
   "source": [
    "# Encoded categorical and converted all to sparse repsresentation.\n",
    "global_features = ['DXCODE', 'Age', 'Race', 'Gender', 'Hospital', 'ArriveDateDOW', 'DischargeDateDOW']\n",
    "categorical_features = ['DXCODE', 'Race', 'Gender', 'Hospital', 'ArriveDateDOW', 'DischargeDateDOW']\n",
    "source_data_categorical,_,_ = ohe_dataframe_to_sparse(source_data[global_features], categorical_features)"
   ]
  },
  {
   "cell_type": "markdown",
   "metadata": {},
   "source": [
    "### Method 1 - Let's see what happnes if I only encode DXCODE"
   ]
  },
  {
   "cell_type": "code",
   "execution_count": 6,
   "metadata": {
    "collapsed": false
   },
   "outputs": [
    {
     "ename": "NameError",
     "evalue": "name 'source_data_features' is not defined",
     "output_type": "error",
     "traceback": [
      "\u001b[1;31m---------------------------------------------------------------------------\u001b[0m",
      "\u001b[1;31mNameError\u001b[0m                                 Traceback (most recent call last)",
      "\u001b[1;32m<ipython-input-6-7d288b8d4486>\u001b[0m in \u001b[0;36m<module>\u001b[1;34m()\u001b[0m\n\u001b[0;32m      6\u001b[0m \u001b[0mfeature_names\u001b[0m \u001b[1;33m=\u001b[0m \u001b[1;33m[\u001b[0m\u001b[1;34m'DXCODE'\u001b[0m\u001b[1;33m]\u001b[0m\u001b[1;33m\u001b[0m\u001b[0m\n\u001b[0;32m      7\u001b[0m \u001b[1;33m\u001b[0m\u001b[0m\n\u001b[1;32m----> 8\u001b[1;33m \u001b[0mTrainAndPrintEval\u001b[0m\u001b[1;33m(\u001b[0m\u001b[0msource_data_features\u001b[0m\u001b[1;33m,\u001b[0m \u001b[0mfeature_names\u001b[0m\u001b[1;33m,\u001b[0m \u001b[0mevalPrompt\u001b[0m\u001b[1;33m)\u001b[0m\u001b[1;33m\u001b[0m\u001b[0m\n\u001b[0m",
      "\u001b[1;31mNameError\u001b[0m: name 'source_data_features' is not defined"
     ]
    }
   ],
   "source": [
    "# Prompt variables\n",
    "evalPrompt = 'RMSE with dxcode only:'\n",
    "\n",
    "# ID feature and target variables\n",
    "#Using DXCODE only\n",
    "feature_names = ['DXCODE']\n",
    "\n",
    "TrainAndPrintEval(source_data_features, feature_names, evalPrompt)"
   ]
  },
  {
   "cell_type": "markdown",
   "metadata": {},
   "source": [
    "### Method 2 - Let's try more features; DXCODE, Patient demos and Hospital"
   ]
  },
  {
   "cell_type": "code",
   "execution_count": 21,
   "metadata": {
    "collapsed": false
   },
   "outputs": [
    {
     "name": "stdout",
     "output_type": "stream",
     "text": [
      "RMSE with dxcode, demos & hospital: 6.19\n",
      "RMSE (standard): 6.41\n"
     ]
    }
   ],
   "source": [
    "#ID feature and target variables\n",
    "#Using DXCODE, patient demos and hospital as only feature\n",
    "feature_names = ['DXCODE', 'Age', 'Race', 'Gender', 'Hospital']\n",
    "categorical_features = ['DXCODE', 'Race', 'Gender', 'Hospital']\n",
    "\n",
    "# Encoded categorical and converted all to sparse repsresentation.\n",
    "source_data_features,_,_ = ohe_dataframe_to_sparse(source_data[feature_names], categorical_features)\n",
    "\n",
    "#Split Data\n",
    "target = source_data.LOS\n",
    "source_features_train, source_features_test, target_train, target_test = train_test_split(source_data_features, target)\n",
    "\n",
    "#Train Model with DXCODE, patient demos and hospital as only feature\n",
    "lin_reg = LinearRegression()\n",
    "lin_reg.fit(source_features_train, target_train)\n",
    "\n",
    "#Evaluate Model with DXCODE, patient demos and hospital as only feature\n",
    "target_pred = lin_reg.predict(source_features_test)\n",
    "\n",
    "print ('RMSE with dxcode, demos & hospital: {:,.2f}'.format(np.sqrt(metrics.mean_squared_error(target_test, target_pred))))\n",
    "print ('RMSE (standard): {:,.2f}'.format(\n",
    "        np.sqrt(metrics.mean_squared_error(target_test, [target_test.mean()] * len(target_test)))))"
   ]
  },
  {
   "cell_type": "markdown",
   "metadata": {},
   "source": [
    "### Method 3 - Let's try Method 2 with DOW for Arrival and Discharge"
   ]
  },
  {
   "cell_type": "code",
   "execution_count": 12,
   "metadata": {
    "collapsed": false
   },
   "outputs": [
    {
     "name": "stdout",
     "output_type": "stream",
     "text": [
      "RMSE with dxcode, demos, hospital & dates: 6.27\n",
      "RMSE (standard): 6.50\n"
     ]
    }
   ],
   "source": [
    "#ID feature and target variables\n",
    "feature_names = ['DXCODE', 'Age', 'Race', 'Gender', 'Hospital', 'ArriveDateDOW', 'DischargeDateDOW']\n",
    "\n",
    "\n",
    "# Encoded categorical and converted all to sparse repsresentation.\n",
    "source_data_features,_,_ = ohe_dataframe_to_sparse(source_data[feature_names], categorical_features)\n",
    "\n",
    "#Split Data\n",
    "target = source_data.LOS\n",
    "source_features_train, source_features_test, target_train, target_test = train_test_split(source_data_features, target)\n",
    "\n",
    "#Train Model with DXCODE, patient demos and hospital as only feature\n",
    "lin_reg = LinearRegression()\n",
    "lin_reg.fit(source_features_train, target_train)\n",
    "\n",
    "#Evaluate Model with DXCODE, patient demos and hospital as only feature\n",
    "target_pred = lin_reg.predict(source_features_test)\n",
    "\n",
    "print ('RMSE with dxcode, demos, hospital & dates: {:,.2f}'.format(np.sqrt(metrics.mean_squared_error(target_test, target_pred))))\n",
    "print ('RMSE (standard): {:,.2f}'.format(\n",
    "        np.sqrt(metrics.mean_squared_error(target_test, [target_test.mean()] * len(target_test)))))"
   ]
  },
  {
   "cell_type": "markdown",
   "metadata": {},
   "source": [
    "### Do common work to train & eval model"
   ]
  },
  {
   "cell_type": "code",
   "execution_count": 5,
   "metadata": {
    "collapsed": false
   },
   "outputs": [],
   "source": [
    "def TrainAndPrintEval(data, featureList, message):\n",
    "    # Encoded categorical and converted all to sparse repsresentation.\n",
    "    source_data_features = data[featureList]\n",
    "\n",
    "    # Split Data\n",
    "    target = data.LOS\n",
    "    source_features_train, source_features_test, target_train, target_test = train_test_split(source_data_features, target)\n",
    "\n",
    "    # Train Model with DXCODE as only feature\n",
    "    model = LinearRegression()\n",
    "    model.fit(source_features_train, target_train)\n",
    "\n",
    "    # Evaluate Model with DXCODE as only feature\n",
    "    target_pred = model.predict(source_features_test)\n",
    "\n",
    "    print (message + ' {:,.2f}'.format(np.sqrt(metrics.mean_squared_error(target_test, target_pred))))\n",
    "    print ('RMSE (standard): {:,.2f}'.format(\n",
    "            np.sqrt(metrics.mean_squared_error(target_test, [target_test.mean()] * len(target_test)))))"
   ]
  },
  {
   "cell_type": "markdown",
   "metadata": {},
   "source": [
    "### Show the issue numerically with DXCODE"
   ]
  },
  {
   "cell_type": "code",
   "execution_count": 23,
   "metadata": {
    "collapsed": false
   },
   "outputs": [
    {
     "name": "stdout",
     "output_type": "stream",
     "text": [
      "4789 of the 279808 observations have unique DXCODES.\n"
     ]
    }
   ],
   "source": [
    "print ('%d of the %d observations have unique DXCODES.' % \n",
    "       (len(source_data.DXCODE.unique()), len(source_data.index)))"
   ]
  },
  {
   "cell_type": "markdown",
   "metadata": {},
   "source": [
    "## Scrap"
   ]
  },
  {
   "cell_type": "code",
   "execution_count": 4,
   "metadata": {
    "collapsed": false
   },
   "outputs": [
    {
     "name": "stderr",
     "output_type": "stream",
     "text": [
      "C:\\Users\\dickm\\AppData\\Local\\Continuum\\Anaconda2\\lib\\site-packages\\pandas\\core\\generic.py:2387: SettingWithCopyWarning: \n",
      "A value is trying to be set on a copy of a slice from a DataFrame.\n",
      "Try using .loc[row_indexer,col_indexer] = value instead\n",
      "\n",
      "See the caveats in the documentation: http://pandas.pydata.org/pandas-docs/stable/indexing.html#indexing-view-versus-copy\n",
      "  self[name] = value\n"
     ]
    },
    {
     "data": {
      "text/plain": [
       "0   2014-10-10\n",
       "1   2014-10-10\n",
       "2   2014-10-10\n",
       "3   2014-10-10\n",
       "4   2014-10-10\n",
       "Name: DischargeDate, dtype: datetime64[ns]"
      ]
     },
     "execution_count": 4,
     "metadata": {},
     "output_type": "execute_result"
    }
   ],
   "source": [
    "## Show how to convert column to date time.\n",
    "feature_names = ['LOS', 'Age', 'Race', 'Gender', 'Hospital', 'ArriveDate', 'DischargeDate']\n",
    "source_data_features = source_data[feature_names]\n",
    "source_data_features.ArriveDate = source_data_features.ArriveDate.map(lambda d: pd.to_datetime(str(d)))\n",
    "source_data_features.DischargeDate = source_data_features.DischargeDate.map(lambda d: pd.to_datetime(str(d)))\n",
    "source_data_features.DischargeDate.head()"
   ]
  },
  {
   "cell_type": "code",
   "execution_count": 7,
   "metadata": {
    "collapsed": false
   },
   "outputs": [
    {
     "data": {
      "text/plain": [
       "0         4\n",
       "1         4\n",
       "2         4\n",
       "3         4\n",
       "4         4\n",
       "5         4\n",
       "6         4\n",
       "7         4\n",
       "8         4\n",
       "9         4\n",
       "10        4\n",
       "11        4\n",
       "12        4\n",
       "13        4\n",
       "14        4\n",
       "15        4\n",
       "16        4\n",
       "17        4\n",
       "18        4\n",
       "19        4\n",
       "20        4\n",
       "21        4\n",
       "22        4\n",
       "23        4\n",
       "24        4\n",
       "25        4\n",
       "26        4\n",
       "27        1\n",
       "28        1\n",
       "29        1\n",
       "         ..\n",
       "279778    1\n",
       "279779    0\n",
       "279780    5\n",
       "279781    5\n",
       "279782    5\n",
       "279783    5\n",
       "279784    5\n",
       "279785    5\n",
       "279786    5\n",
       "279787    0\n",
       "279788    0\n",
       "279789    0\n",
       "279790    0\n",
       "279791    0\n",
       "279792    0\n",
       "279793    0\n",
       "279794    0\n",
       "279795    0\n",
       "279796    3\n",
       "279797    3\n",
       "279798    3\n",
       "279799    3\n",
       "279800    3\n",
       "279801    3\n",
       "279802    3\n",
       "279803    4\n",
       "279804    4\n",
       "279805    4\n",
       "279806    4\n",
       "279807    4\n",
       "Name: DischargeDate, dtype: int64"
      ]
     },
     "execution_count": 7,
     "metadata": {},
     "output_type": "execute_result"
    }
   ],
   "source": [
    "source_data_features.DischargeDate.dt.dayofweek"
   ]
  }
 ],
 "metadata": {
  "kernelspec": {
   "display_name": "Python 2",
   "language": "python",
   "name": "python2"
  },
  "language_info": {
   "codemirror_mode": {
    "name": "ipython",
    "version": 2
   },
   "file_extension": ".py",
   "mimetype": "text/x-python",
   "name": "python",
   "nbconvert_exporter": "python",
   "pygments_lexer": "ipython2",
   "version": "2.7.11"
  }
 },
 "nbformat": 4,
 "nbformat_minor": 0
}
